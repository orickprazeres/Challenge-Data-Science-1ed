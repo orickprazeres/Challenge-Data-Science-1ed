{
  "nbformat": 4,
  "nbformat_minor": 0,
  "metadata": {
    "colab": {
      "provenance": [],
      "collapsed_sections": [],
      "include_colab_link": true
    },
    "kernelspec": {
      "name": "python3",
      "display_name": "Python 3"
    },
    "language_info": {
      "name": "python"
    }
  },
  "cells": [
    {
      "cell_type": "markdown",
      "metadata": {
        "id": "view-in-github",
        "colab_type": "text"
      },
      "source": [
        "<a href=\"https://colab.research.google.com/github/orickprazeres/Challenge-Data-Science-1ed/blob/main/PY401/Aula_1_Introdu%C3%A7%C3%A3o_ao_Python.ipynb\" target=\"_parent\"><img src=\"https://colab.research.google.com/assets/colab-badge.svg\" alt=\"Open In Colab\"/></a>"
      ]
    },
    {
      "cell_type": "markdown",
      "source": [
        "<a align=\"left\" href=\"http://escola.sigmoidal.ai/assinar-eds/\" target=\"_blank\">\n",
        "<img width=\"600\", src=\"https://raw.githubusercontent.com/carlosfab/escola-data-science/master/img/py401_banner.png\"></a>\n",
        "\n",
        "Esse é um **material de apoio do curso 🚀 PY-401: Introdução à Ciência da Computação e Programação com Python**, do *Nanodegree* Python.<br>."
      ],
      "metadata": {
        "id": "ydXxjiQ4z7Kb"
      }
    },
    {
      "cell_type": "markdown",
      "metadata": {
        "id": "5sD7GjVVSSc5"
      },
      "source": [
        "## Operadores Aritméticos\n",
        "\n",
        "Nesta aula, vou te mostrar quais são os operadores aritméticos do Python, além da sua ordem de precedência quando compondo uma expressão matemática.\n",
        "\n",
        "Os operadores aritméticos do Python são:\n",
        "\n",
        "* `+` Adição\n",
        "* `-` Subtração\n",
        "* `*` Multiplicação\n",
        "* `/` Divisão\n",
        "* `**` Exponenciação\n",
        "* `//` Divisão (resultado inteiro)\n",
        "\n",
        "Abaixo, podemos ver exemplos de uso desses operadores."
      ]
    },
    {
      "cell_type": "code",
      "metadata": {
        "id": "8IwDiibkUF1o",
        "colab": {
          "base_uri": "https://localhost:8080/"
        },
        "outputId": "01064562-f1b6-4f0e-c5d6-7b440985c4da"
      },
      "source": [
        "# adição\n",
        "13 + 45 + 89 + 90"
      ],
      "execution_count": 1,
      "outputs": [
        {
          "output_type": "execute_result",
          "data": {
            "text/plain": [
              "237"
            ]
          },
          "metadata": {},
          "execution_count": 1
        }
      ]
    },
    {
      "cell_type": "code",
      "metadata": {
        "id": "hX-rwGYCWezE",
        "colab": {
          "base_uri": "https://localhost:8080/"
        },
        "outputId": "f2569a7c-5223-4c97-8d73-4b5a90889813"
      },
      "source": [
        "# subtração\n",
        "87 - 700"
      ],
      "execution_count": 2,
      "outputs": [
        {
          "output_type": "execute_result",
          "data": {
            "text/plain": [
              "-613"
            ]
          },
          "metadata": {},
          "execution_count": 2
        }
      ]
    },
    {
      "cell_type": "code",
      "metadata": {
        "id": "difWa1hYWe8G",
        "colab": {
          "base_uri": "https://localhost:8080/"
        },
        "outputId": "0bce6593-ecf9-47dc-efe0-f4d804d3b310"
      },
      "source": [
        "# multiplicação\n",
        "7 * 10"
      ],
      "execution_count": 3,
      "outputs": [
        {
          "output_type": "execute_result",
          "data": {
            "text/plain": [
              "70"
            ]
          },
          "metadata": {},
          "execution_count": 3
        }
      ]
    },
    {
      "cell_type": "code",
      "metadata": {
        "id": "NmYClsMRWgvE",
        "colab": {
          "base_uri": "https://localhost:8080/"
        },
        "outputId": "ca9eb48b-7003-4cd9-e85c-f8944c7b2d9a"
      },
      "source": [
        "# divisão (resultado inteiro)\n",
        "70 // 3"
      ],
      "execution_count": 4,
      "outputs": [
        {
          "output_type": "execute_result",
          "data": {
            "text/plain": [
              "23"
            ]
          },
          "metadata": {},
          "execution_count": 4
        }
      ]
    },
    {
      "cell_type": "code",
      "metadata": {
        "id": "aS_2zy7EWfGS",
        "colab": {
          "base_uri": "https://localhost:8080/"
        },
        "outputId": "f9f961b1-c893-491b-e559-c8ab662473c0"
      },
      "source": [
        "# divisão\n",
        "70 / 3"
      ],
      "execution_count": 5,
      "outputs": [
        {
          "output_type": "execute_result",
          "data": {
            "text/plain": [
              "23.333333333333332"
            ]
          },
          "metadata": {},
          "execution_count": 5
        }
      ]
    },
    {
      "cell_type": "code",
      "source": [
        "70%3"
      ],
      "metadata": {
        "colab": {
          "base_uri": "https://localhost:8080/"
        },
        "id": "rmYm0aHIC0jL",
        "outputId": "bfb74718-c2c9-408b-89db-bc081dc07d11"
      },
      "execution_count": 6,
      "outputs": [
        {
          "output_type": "execute_result",
          "data": {
            "text/plain": [
              "1"
            ]
          },
          "metadata": {},
          "execution_count": 6
        }
      ]
    },
    {
      "cell_type": "markdown",
      "metadata": {
        "id": "c1dKHcyl2HIp"
      },
      "source": [
        "$$\n",
        "7^2\n",
        "$$"
      ]
    },
    {
      "cell_type": "code",
      "metadata": {
        "id": "bSJLtcQUWfQJ",
        "colab": {
          "base_uri": "https://localhost:8080/"
        },
        "outputId": "e30717fc-14bb-4024-8ac6-35c5f97d031e"
      },
      "source": [
        "# exponenciação\n",
        "7 ** 2"
      ],
      "execution_count": 7,
      "outputs": [
        {
          "output_type": "execute_result",
          "data": {
            "text/plain": [
              "49"
            ]
          },
          "metadata": {},
          "execution_count": 7
        }
      ]
    },
    {
      "cell_type": "markdown",
      "metadata": {
        "id": "UIDcLOrxUhc2"
      },
      "source": [
        "## Ordem de precedência\n",
        "\n",
        "Se já faz um tempo desde o seu último contato com a matemática, vale a pena relembrarmos a ordem correta das operações matemáticas.\n",
        "\n",
        "$$\n",
        "\\begin{aligned}\n",
        "x & = 3 + 10 * 3 \\\\\n",
        "x & = 3 + (10 * 3) \\\\\n",
        "x & = 3 + 30 \\\\\n",
        "x & = 33\n",
        "\\end{aligned}\n",
        "$$\n",
        "\n",
        "Lembre-se que a ordem das operações matemáticas é:\n",
        "\n",
        "* 1º Parêntesis;\n",
        "* 2º Expoentes;\n",
        "* 3º Multiplicações e Divisões; (da esquerda para a direita)\n",
        "* 4º Somas e Subtrações. (da esquerda para a direita)\n",
        "\n",
        "Vamos ver como isso funciona na prática com Python."
      ]
    },
    {
      "cell_type": "code",
      "metadata": {
        "id": "mqoGe3Ov0MTa",
        "colab": {
          "base_uri": "https://localhost:8080/"
        },
        "outputId": "a35f1db6-429e-448a-b77d-135dc63745a9"
      },
      "source": [
        "# primeiro é resolvida a multiplicação e depois a subtração\n",
        "10 * 3"
      ],
      "execution_count": 8,
      "outputs": [
        {
          "output_type": "execute_result",
          "data": {
            "text/plain": [
              "30"
            ]
          },
          "metadata": {},
          "execution_count": 8
        }
      ]
    },
    {
      "cell_type": "code",
      "source": [
        "9 + (9/2)"
      ],
      "metadata": {
        "colab": {
          "base_uri": "https://localhost:8080/"
        },
        "id": "4bCmzliMDqzN",
        "outputId": "6ad38ef5-9782-484c-e39b-abf25b97102f"
      },
      "execution_count": 9,
      "outputs": [
        {
          "output_type": "execute_result",
          "data": {
            "text/plain": [
              "13.5"
            ]
          },
          "metadata": {},
          "execution_count": 9
        }
      ]
    },
    {
      "cell_type": "code",
      "metadata": {
        "id": "A-zS3HT3VaQ4",
        "colab": {
          "base_uri": "https://localhost:8080/"
        },
        "outputId": "0ef340b2-3647-49b1-88b8-ed2145a780d4"
      },
      "source": [
        "# multiplicamos, e depois somamos o resultado\n",
        "3 + 30"
      ],
      "execution_count": 10,
      "outputs": [
        {
          "output_type": "execute_result",
          "data": {
            "text/plain": [
              "33"
            ]
          },
          "metadata": {},
          "execution_count": 10
        }
      ]
    },
    {
      "cell_type": "markdown",
      "metadata": {
        "id": "z-5iRQaqW2rK"
      },
      "source": [
        "Mesmo acrescentando um pouquinho mais de complexidade, o Python consegue lidar com extrema facilidade, cabendo a nós termos atenção às operações realizadas.\n",
        "\n",
        "$$\n",
        "\\begin{aligned}\n",
        "x & = 5 + 9 - 2^2 + \\frac{9}{3} \\\\\n",
        "x & = 5 + 9 - 4 + \\frac{9}{3} \\\\\n",
        "x & = 5 + 9 - 4 + 3 \\\\\n",
        "x & = 14 - 4 + 3 \\\\\n",
        "x & = 10 + 3 \\\\\n",
        "x & = 13 \\\\\n",
        "\\end{aligned}\n",
        "$$\n",
        "\n"
      ]
    },
    {
      "cell_type": "code",
      "metadata": {
        "id": "kTZcYeg0YyLi",
        "colab": {
          "base_uri": "https://localhost:8080/"
        },
        "outputId": "24d6cad5-1ad5-4d78-a341-f5cdc11a809a"
      },
      "source": [
        "# resolução da equação acima usando Python\n",
        "5 + 9 - 2**2 + 9/3"
      ],
      "execution_count": 11,
      "outputs": [
        {
          "output_type": "execute_result",
          "data": {
            "text/plain": [
              "13.0"
            ]
          },
          "metadata": {},
          "execution_count": 11
        }
      ]
    },
    {
      "cell_type": "code",
      "metadata": {
        "id": "bYnc7s00OZ0r",
        "colab": {
          "base_uri": "https://localhost:8080/"
        },
        "outputId": "bfb6f455-2e60-4d50-dec1-76b9446bdd78"
      },
      "source": [
        "5 + 9 - (2**2) + (9/3)"
      ],
      "execution_count": 12,
      "outputs": [
        {
          "output_type": "execute_result",
          "data": {
            "text/plain": [
              "13.0"
            ]
          },
          "metadata": {},
          "execution_count": 12
        }
      ]
    },
    {
      "cell_type": "markdown",
      "metadata": {
        "id": "WR4ng26uVb-H"
      },
      "source": [
        "Expressões maiores podem confundir, então o segredo é anotar a correta ordem de execução das operações matemáticas:\n",
        "\n",
        "1. Parêntesis\n",
        "2. Expoentes\n",
        "3. Multiplicações e Divisões (esquerda para a direita)\n",
        "4. Somas e subtrações (esquerda para a direita)\n",
        "\n",
        "#### Exemplo 1\n",
        "\n",
        "Calcula a média simples das notas das 3 provas de matemática\n",
        "* Nota 1 = 8,5\n",
        "* Nota 2 = 9,2\n",
        "* Nota 3 = 7,5"
      ]
    },
    {
      "cell_type": "code",
      "metadata": {
        "id": "jhwL0H9IZaWN",
        "colab": {
          "base_uri": "https://localhost:8080/"
        },
        "outputId": "f6e62703-aba6-4316-e1d9-82470c15fd83"
      },
      "source": [
        "# resposta\n",
        "(8.5 + 9.2 + 7.5) / 3"
      ],
      "execution_count": 13,
      "outputs": [
        {
          "output_type": "execute_result",
          "data": {
            "text/plain": [
              "8.4"
            ]
          },
          "metadata": {},
          "execution_count": 13
        }
      ]
    },
    {
      "cell_type": "markdown",
      "metadata": {
        "id": "NIjH5tqKaGrX"
      },
      "source": [
        "#### Exemplo 2\n",
        "\n",
        "Qual a área de \n",
        "\n",
        "* O volume de uma esfera é calculada por meio da expressão $V = \\frac{4}{3} \\pi r^3$.\n",
        "* Calcule o volume de uma esfera de 5 metros?"
      ]
    },
    {
      "cell_type": "code",
      "metadata": {
        "id": "RY1xwXd6ZxDl",
        "colab": {
          "base_uri": "https://localhost:8080/"
        },
        "outputId": "11898161-45a3-4ed2-bcce-bb32f64a6b9b"
      },
      "source": [
        "# resposta\n",
        "4/3 * 3.14 * 5 ** 3"
      ],
      "execution_count": 14,
      "outputs": [
        {
          "output_type": "execute_result",
          "data": {
            "text/plain": [
              "523.3333333333334"
            ]
          },
          "metadata": {},
          "execution_count": 14
        }
      ]
    },
    {
      "cell_type": "code",
      "metadata": {
        "id": "W2HSOxqvPA6F",
        "colab": {
          "base_uri": "https://localhost:8080/"
        },
        "outputId": "c015da2a-e33c-452a-f469-7923d4c23e87"
      },
      "source": [
        "# resposta\n",
        "(4/3) * (3.14) * (5 ** 3)"
      ],
      "execution_count": 15,
      "outputs": [
        {
          "output_type": "execute_result",
          "data": {
            "text/plain": [
              "523.3333333333334"
            ]
          },
          "metadata": {},
          "execution_count": 15
        }
      ]
    },
    {
      "cell_type": "markdown",
      "metadata": {
        "id": "3QRnB_zk_0ON"
      },
      "source": [
        "## Exercícios\n",
        "\n",
        "Agora que vimos como utilizar os operadores, vamos resolver algumas equações.\n",
        "<center><img alt=\"Math\" width=\"35%\" src=\"https://image.freepik.com/free-vector/people-budgeting-order-plan-personal-finance_53876-64613.jpg\"></center>\n"
      ]
    },
    {
      "cell_type": "markdown",
      "metadata": {
        "id": "xUIKEVo2A73V"
      },
      "source": [
        "#### Exercício 1\n",
        "\n",
        "Calcule:\n",
        "$$\n",
        "\\begin{aligned}\n",
        "x & = 15 - 5 + 3^2 \\\\\n",
        "\\end{aligned}\n",
        "$$"
      ]
    },
    {
      "cell_type": "code",
      "metadata": {
        "id": "EZ8rnqrK1K0L",
        "colab": {
          "base_uri": "https://localhost:8080/"
        },
        "outputId": "c5613cc1-6e93-41be-805a-6022d302f303"
      },
      "source": [
        "# resposta\n",
        "15-5+(3**2)"
      ],
      "execution_count": 16,
      "outputs": [
        {
          "output_type": "execute_result",
          "data": {
            "text/plain": [
              "19"
            ]
          },
          "metadata": {},
          "execution_count": 16
        }
      ]
    },
    {
      "cell_type": "code",
      "metadata": {
        "id": "L_tEZCEYBlGd",
        "colab": {
          "base_uri": "https://localhost:8080/"
        },
        "outputId": "16a27acf-ae9f-4f42-9472-9f1fc5b1efb9"
      },
      "source": [
        "#@title Solução\n",
        "15 - 5 + (3**2)"
      ],
      "execution_count": 17,
      "outputs": [
        {
          "output_type": "execute_result",
          "data": {
            "text/plain": [
              "19"
            ]
          },
          "metadata": {},
          "execution_count": 17
        }
      ]
    },
    {
      "cell_type": "markdown",
      "metadata": {
        "id": "KKtUUwTRCPD0"
      },
      "source": [
        "#### Exercício 2\n",
        "\n",
        "Calcule:\n",
        "\n",
        "$$\n",
        "\\begin{aligned}\n",
        "x & = 20 + 5  /  7 * 9 \\\\\n",
        "\\end{aligned}\n",
        "$$"
      ]
    },
    {
      "cell_type": "code",
      "metadata": {
        "id": "3Mw8i0clBtN0",
        "colab": {
          "base_uri": "https://localhost:8080/"
        },
        "outputId": "c3084e5b-a996-4843-ffc6-7abd9585e527"
      },
      "source": [
        "# resposta\n",
        "20 + (5/7)*9"
      ],
      "execution_count": 18,
      "outputs": [
        {
          "output_type": "execute_result",
          "data": {
            "text/plain": [
              "26.42857142857143"
            ]
          },
          "metadata": {},
          "execution_count": 18
        }
      ]
    },
    {
      "cell_type": "code",
      "metadata": {
        "id": "hvkeoY0pByiP",
        "cellView": "form",
        "colab": {
          "base_uri": "https://localhost:8080/"
        },
        "outputId": "cc6ff55d-146e-4c5c-9b60-b7858fed4e15"
      },
      "source": [
        "#@title Solução\n",
        "20+(5/7) * 9"
      ],
      "execution_count": 19,
      "outputs": [
        {
          "output_type": "execute_result",
          "data": {
            "text/plain": [
              "26.42857142857143"
            ]
          },
          "metadata": {},
          "execution_count": 19
        }
      ]
    },
    {
      "cell_type": "markdown",
      "metadata": {
        "id": "P5tfTUo9DIsQ"
      },
      "source": [
        "#### Exercício 3\n",
        "\n",
        "Calcule:\n",
        "\n",
        "$$\n",
        "\\begin{aligned}\n",
        "x & = 17 * 3  - 4^2  / 3 \\\\\n",
        "\\end{aligned}\n",
        "$$"
      ]
    },
    {
      "cell_type": "code",
      "metadata": {
        "id": "vNwc8aLMD1u3",
        "colab": {
          "base_uri": "https://localhost:8080/"
        },
        "outputId": "261f302e-6e3c-4e59-a986-208ff7341211"
      },
      "source": [
        "# resposta\n",
        "(17*3) - (4**2)/3"
      ],
      "execution_count": 20,
      "outputs": [
        {
          "output_type": "execute_result",
          "data": {
            "text/plain": [
              "45.666666666666664"
            ]
          },
          "metadata": {},
          "execution_count": 20
        }
      ]
    },
    {
      "cell_type": "code",
      "metadata": {
        "id": "F_fhVYzHC25y",
        "colab": {
          "base_uri": "https://localhost:8080/"
        },
        "outputId": "62cfa66e-3c77-44d7-97a8-6c4c6ab844f0"
      },
      "source": [
        "#@title Solução\n",
        "(17*3) - (4**2 /3)"
      ],
      "execution_count": 21,
      "outputs": [
        {
          "output_type": "execute_result",
          "data": {
            "text/plain": [
              "45.666666666666664"
            ]
          },
          "metadata": {},
          "execution_count": 21
        }
      ]
    },
    {
      "cell_type": "markdown",
      "metadata": {
        "id": "m3Xn_3hAFRmx"
      },
      "source": [
        "## Variáveis em Python\n",
        "\n",
        "Em Python, podemos associar valores a variáveis, para que sejam armazenados e facilmente acessados ao longo do seu código.\n",
        "\n",
        "Pense na variável como um \"nome\" para o objeto que estamos manipulando.\n",
        "\n",
        "Diferente de outras linguagens, as variáveis não precisam ser definidas anteriormente, podemos criá-las no momento da associação\n",
        "\n",
        "Para associarmos um valor a uma variáveis, basta usar o operador que indica associação `=`. \n"
      ]
    },
    {
      "cell_type": "code",
      "metadata": {
        "id": "fX7onpEQHcCk"
      },
      "source": [
        "# associando o número 300 à variável x\n",
        "x = 300"
      ],
      "execution_count": 22,
      "outputs": []
    },
    {
      "cell_type": "markdown",
      "metadata": {
        "id": "YFg9LSbqHjjE"
      },
      "source": [
        "Após associarmos o valor 300 à variável `x`, podemos acessá-la utilizando a mesma, ou mesmo a função `print`."
      ]
    },
    {
      "cell_type": "code",
      "metadata": {
        "id": "M2LFABc3Hb_y",
        "colab": {
          "base_uri": "https://localhost:8080/"
        },
        "outputId": "d636efe0-b62e-486b-95e4-b928109b105a"
      },
      "source": [
        "# chamando a variável diretamente\n",
        "x"
      ],
      "execution_count": 23,
      "outputs": [
        {
          "output_type": "execute_result",
          "data": {
            "text/plain": [
              "300"
            ]
          },
          "metadata": {},
          "execution_count": 23
        }
      ]
    },
    {
      "cell_type": "code",
      "metadata": {
        "id": "4aYbvdJzGJxR",
        "colab": {
          "base_uri": "https://localhost:8080/"
        },
        "outputId": "c3a376d6-147b-4ef5-f5b6-30211c5e1011"
      },
      "source": [
        "# imprimindo a variável com print\n",
        "print(x)"
      ],
      "execution_count": 24,
      "outputs": [
        {
          "output_type": "stream",
          "name": "stdout",
          "text": [
            "300\n"
          ]
        }
      ]
    },
    {
      "cell_type": "code",
      "source": [
        "print(\"Hello, World!\")"
      ],
      "metadata": {
        "colab": {
          "base_uri": "https://localhost:8080/"
        },
        "id": "Ai7GKp4gGt9X",
        "outputId": "9d99b7a6-8eb2-4e2f-ff2f-09bf1cef0cf2"
      },
      "execution_count": 25,
      "outputs": [
        {
          "output_type": "stream",
          "name": "stdout",
          "text": [
            "Hello, World!\n"
          ]
        }
      ]
    },
    {
      "cell_type": "markdown",
      "metadata": {
        "id": "Unb_PdTxIVNR"
      },
      "source": [
        "Também podemos associar um novo valor a essa variável, para que a partir desse momento, ela assuma um novo valor."
      ]
    },
    {
      "cell_type": "code",
      "metadata": {
        "id": "YSClLFSAH3Ca",
        "colab": {
          "base_uri": "https://localhost:8080/"
        },
        "outputId": "ee1b7e49-8337-4a18-d440-61c65ba09b49"
      },
      "source": [
        "x=300\n",
        "\n",
        "print(\"Valor antigo: \", x)\n",
        "\n",
        "x = 100\n",
        "\n",
        "print(\"\\nValor novo:\", x)"
      ],
      "execution_count": 26,
      "outputs": [
        {
          "output_type": "stream",
          "name": "stdout",
          "text": [
            "Valor antigo:  300\n",
            "\n",
            "Valor novo: 100\n"
          ]
        }
      ]
    },
    {
      "cell_type": "markdown",
      "metadata": {
        "id": "v2YuHg1iJlYS"
      },
      "source": [
        "## Tipos de Variáveis\n",
        "\n",
        "Além de utilizarmos `integers`, ou inteiros, podemos usar outros tipos de variáveis como `strings`, ou `floats`.\n",
        "\n",
        "Vamos ver na prática como isso fucniona."
      ]
    },
    {
      "cell_type": "markdown",
      "metadata": {
        "id": "82Dw7isSKSnG"
      },
      "source": [
        "### Integers\n",
        "Para utilizar inteiros, basta criar a variável como tal, sem valores decimais."
      ]
    },
    {
      "cell_type": "code",
      "metadata": {
        "id": "zX3CRTx6IfLV",
        "colab": {
          "base_uri": "https://localhost:8080/"
        },
        "outputId": "c8b0b4a2-3676-46cf-990c-4bf4addaed44"
      },
      "source": [
        "# integers\n",
        "x = 50\n",
        "print(x)"
      ],
      "execution_count": 27,
      "outputs": [
        {
          "output_type": "stream",
          "name": "stdout",
          "text": [
            "50\n"
          ]
        }
      ]
    },
    {
      "cell_type": "markdown",
      "metadata": {
        "id": "eF8QT6OFKdBF"
      },
      "source": [
        "### Floats\n",
        "Ao utilizar Floats, precisamos ter cuidado com uma detalhe. A vírgula, em Python, serve pra enumeração, e não para casas decimais.\n",
        "\n",
        "Para definir casas decimais, vamos utilizar o ponto `.`\n",
        "\n",
        "Para criar um float, basta associar à variável um número que possua casa decimal."
      ]
    },
    {
      "cell_type": "code",
      "metadata": {
        "id": "A7QseAg_J_vV",
        "colab": {
          "base_uri": "https://localhost:8080/"
        },
        "outputId": "f01f3e09-f176-40b6-c902-b2a3dcc1d365"
      },
      "source": [
        "# float\n",
        "x = 25.0\n",
        "print(x)"
      ],
      "execution_count": 28,
      "outputs": [
        {
          "output_type": "stream",
          "name": "stdout",
          "text": [
            "25.0\n"
          ]
        }
      ]
    },
    {
      "cell_type": "markdown",
      "metadata": {
        "id": "T1gTB698LGfN"
      },
      "source": [
        "### Strings\n",
        "Strings são nossa linguagem natural, utilizando caracteres e palavras.\n",
        "\n",
        "Para criar strings, precisamos colocar nosso conteúdo entre aspas, simples ou duplas."
      ]
    },
    {
      "cell_type": "code",
      "metadata": {
        "id": "G_iJjopFKEDO",
        "colab": {
          "base_uri": "https://localhost:8080/"
        },
        "outputId": "625d5aa5-9cd6-4f18-8dd7-c333b9c357c4"
      },
      "source": [
        "# string\n",
        "x = \"Data Science é a profissão mais sexy do mundo.\"\n",
        "print(x)"
      ],
      "execution_count": 29,
      "outputs": [
        {
          "output_type": "stream",
          "name": "stdout",
          "text": [
            "Data Science é a profissão mais sexy do mundo.\n"
          ]
        }
      ]
    },
    {
      "cell_type": "code",
      "source": [
        "x = 25.0\n",
        "type(x)"
      ],
      "metadata": {
        "colab": {
          "base_uri": "https://localhost:8080/"
        },
        "id": "-wvYDVsIHuIs",
        "outputId": "9957c5d4-62b1-44dc-89f5-405cdf834bca"
      },
      "execution_count": 30,
      "outputs": [
        {
          "output_type": "execute_result",
          "data": {
            "text/plain": [
              "float"
            ]
          },
          "metadata": {},
          "execution_count": 30
        }
      ]
    },
    {
      "cell_type": "markdown",
      "metadata": {
        "id": "WAbnkHfPLxNc"
      },
      "source": [
        "## Verificando o Tipo da Variável\n",
        "\n",
        "É claro que você vai sempre criar as variáveis da forma desejada, e seguindo os padrões para não encontrar erros ou problemas no seu código.\n",
        "\n",
        "Entretanto, não é incomum encontrarmos, por exemplo, números que estão em formato string, e por isso, se comportarão como tal, não permitindo operações matemáticas, por exemplo.\n",
        "\n",
        "Para que possamos descobrir o tipo das nossas variáveis, temos a função `type`."
      ]
    },
    {
      "cell_type": "code",
      "metadata": {
        "id": "u8kfv_-LKJTN",
        "colab": {
          "base_uri": "https://localhost:8080/"
        },
        "outputId": "7351a276-4615-4d8f-fb93-bf864cff5f3c"
      },
      "source": [
        "# imprimindo a variável\n",
        "x = 100\n",
        "print(x)\n",
        "\n",
        "# verificando o tipo\n",
        "type(x)"
      ],
      "execution_count": 31,
      "outputs": [
        {
          "output_type": "stream",
          "name": "stdout",
          "text": [
            "100\n"
          ]
        },
        {
          "output_type": "execute_result",
          "data": {
            "text/plain": [
              "int"
            ]
          },
          "metadata": {},
          "execution_count": 31
        }
      ]
    },
    {
      "cell_type": "markdown",
      "metadata": {
        "id": "2yKM4SuiMlSK"
      },
      "source": [
        "### Criando Variáveis a Partir de Variáveis\n",
        "\n",
        "Também podemos criar cópias das variáveis, associando novas variáveis a ela.\n",
        "\n",
        "Isso nos permite explorar a variável sem alterar a original."
      ]
    },
    {
      "cell_type": "code",
      "metadata": {
        "id": "aZiPLduUMWft",
        "colab": {
          "base_uri": "https://localhost:8080/"
        },
        "outputId": "88514409-2e1b-45a0-ae2b-8be09e16c084"
      },
      "source": [
        "# criando uma variável através da variável original\n",
        "print(\"Variável x: \", x)\n",
        "\n",
        "y = x\n",
        "\n",
        "print(\"Variável y: \", y)"
      ],
      "execution_count": 32,
      "outputs": [
        {
          "output_type": "stream",
          "name": "stdout",
          "text": [
            "Variável x:  100\n",
            "Variável y:  100\n"
          ]
        }
      ]
    },
    {
      "cell_type": "markdown",
      "metadata": {
        "id": "Qn61cCs7WrNn"
      },
      "source": [
        "Podemos fazer isso com qualquer tipo de variável.\n",
        "\n",
        "Também podemos criar a nova variável a partir de uma operação feita com a variável original."
      ]
    },
    {
      "cell_type": "code",
      "metadata": {
        "id": "lCeGxQJQWoWV",
        "colab": {
          "base_uri": "https://localhost:8080/"
        },
        "outputId": "5952b630-593b-44c3-fe3f-669b05cc25d2"
      },
      "source": [
        "# criando uma nova variável com operações\n",
        "x = 10\n",
        "\n",
        "y = x * 10\n",
        "\n",
        "print(y)"
      ],
      "execution_count": 33,
      "outputs": [
        {
          "output_type": "stream",
          "name": "stdout",
          "text": [
            "100\n"
          ]
        }
      ]
    },
    {
      "cell_type": "markdown",
      "metadata": {
        "id": "EnPGkyAjZCeX"
      },
      "source": [
        "É importante entender que o relacionamento entre as duas acaba no momento da associação. \n",
        "\n",
        "Após isso, elas funcionam independentes uma da outra, portanto, alterações feitas em uma não afetam a outra."
      ]
    },
    {
      "cell_type": "code",
      "metadata": {
        "id": "Vcs6V2RJXYOy",
        "colab": {
          "base_uri": "https://localhost:8080/"
        },
        "outputId": "383626f6-7f5b-472a-f499-96cd95b4e519"
      },
      "source": [
        "# criando as variáveis\n",
        "print('Criando as Variáveis')\n",
        "x = 10\n",
        "\n",
        "y = x\n",
        "# resultado\n",
        "print('x:', x)\n",
        "print('y:', y)\n",
        "\n",
        "\n",
        "print('\\nTransformação x = y + 10')\n",
        "x = y + 10\n",
        "# resultado\n",
        "print ('Novo x:', x)\n",
        "print ('y:', y)\n",
        "\n",
        "\n",
        "print('\\nTransformação y = y/2')\n",
        "y = y/2\n",
        "\n",
        "# resultado\n",
        "print('x:', x)\n",
        "print('Novo y:', y)"
      ],
      "execution_count": 34,
      "outputs": [
        {
          "output_type": "stream",
          "name": "stdout",
          "text": [
            "Criando as Variáveis\n",
            "x: 10\n",
            "y: 10\n",
            "\n",
            "Transformação x = y + 10\n",
            "Novo x: 20\n",
            "y: 10\n",
            "\n",
            "Transformação y = y/2\n",
            "x: 20\n",
            "Novo y: 5.0\n"
          ]
        }
      ]
    },
    {
      "cell_type": "markdown",
      "metadata": {
        "id": "S-6iuoT3aPsx"
      },
      "source": [
        "## Exercícios\n",
        "\n",
        "Agora, vamos testar nosso conhecimento sobre as variáveis."
      ]
    },
    {
      "cell_type": "markdown",
      "metadata": {
        "id": "lExb7DuqaaJK"
      },
      "source": [
        "#### Exercício 1\n",
        "\n",
        "Crie uma variável do tipo `integer`, chamada x, e associe a ela sua idade."
      ]
    },
    {
      "cell_type": "code",
      "metadata": {
        "id": "IXoyJX5jZrKK",
        "colab": {
          "base_uri": "https://localhost:8080/"
        },
        "outputId": "26629765-c2a1-421f-bd3b-20eff0995ea4"
      },
      "source": [
        "# resposta\n",
        "x = 2022-1996\n",
        "x"
      ],
      "execution_count": 35,
      "outputs": [
        {
          "output_type": "execute_result",
          "data": {
            "text/plain": [
              "26"
            ]
          },
          "metadata": {},
          "execution_count": 35
        }
      ]
    },
    {
      "cell_type": "code",
      "metadata": {
        "id": "HqyCczwUahSH"
      },
      "source": [
        "#@title Solução\n",
        "x = 36"
      ],
      "execution_count": 36,
      "outputs": []
    },
    {
      "cell_type": "markdown",
      "metadata": {
        "id": "RpC7_U1MavAS"
      },
      "source": [
        "#### Exercício 2\n",
        "\n",
        "Crie uma variável do tipo `float`, chamada y, e associe a ela o preço de uma barra de chocolate."
      ]
    },
    {
      "cell_type": "code",
      "metadata": {
        "id": "7w2Ldng8ar3p",
        "colab": {
          "base_uri": "https://localhost:8080/"
        },
        "outputId": "cbdf1fb5-6b2d-493a-e199-cc4c6d3d291a"
      },
      "source": [
        "# resposta\n",
        "y = 7.99\n",
        "print(f'{y} type: {type(y)}')"
      ],
      "execution_count": 37,
      "outputs": [
        {
          "output_type": "stream",
          "name": "stdout",
          "text": [
            "7.99 type: <class 'float'>\n"
          ]
        }
      ]
    },
    {
      "cell_type": "code",
      "metadata": {
        "id": "3tk87CuPbJgu"
      },
      "source": [
        "#@title Solução\n",
        "y = 2.99"
      ],
      "execution_count": 38,
      "outputs": []
    },
    {
      "cell_type": "markdown",
      "metadata": {
        "id": "sNmW-QU5bPpc"
      },
      "source": [
        "#### Exercício 3\n",
        "Crie uma variável do tipo `string`, chamada `nome` e associe a ela o seu nome."
      ]
    },
    {
      "cell_type": "code",
      "metadata": {
        "id": "qK_VecttbOVF",
        "colab": {
          "base_uri": "https://localhost:8080/",
          "height": 35
        },
        "outputId": "457b46fb-d9a9-4bdc-b714-4f12a21ebb50"
      },
      "source": [
        "# resposta\n",
        "nome = 'Ricardo Sousa'\n",
        "nome"
      ],
      "execution_count": 39,
      "outputs": [
        {
          "output_type": "execute_result",
          "data": {
            "text/plain": [
              "'Ricardo Sousa'"
            ],
            "application/vnd.google.colaboratory.intrinsic+json": {
              "type": "string"
            }
          },
          "metadata": {},
          "execution_count": 39
        }
      ]
    },
    {
      "cell_type": "code",
      "metadata": {
        "id": "k95BQlXwbX2T"
      },
      "source": [
        "#@title Solução\n",
        "nome = \"Sigmoidal \""
      ],
      "execution_count": 40,
      "outputs": []
    },
    {
      "cell_type": "markdown",
      "metadata": {
        "id": "sUWYLpJIcInn"
      },
      "source": [
        "#### Exercício 4\n",
        "\n",
        "Verifique o tipo das variáveis `x`, `y`, `nome`.\n",
        "\n",
        "Dica: A função print vai ajudar a fazer tudo em uma célula só."
      ]
    },
    {
      "cell_type": "code",
      "metadata": {
        "id": "_sEEXdzpbi5o",
        "colab": {
          "base_uri": "https://localhost:8080/"
        },
        "outputId": "6f0f205c-66da-4f2c-e8ca-c9bba765da82"
      },
      "source": [
        "# resultado\n",
        "print(f'x: {type(x)}')\n",
        "print(f'y: {type(y)}')\n",
        "print(f'nome: {type(nome)}')"
      ],
      "execution_count": 41,
      "outputs": [
        {
          "output_type": "stream",
          "name": "stdout",
          "text": [
            "x: <class 'int'>\n",
            "y: <class 'float'>\n",
            "nome: <class 'str'>\n"
          ]
        }
      ]
    },
    {
      "cell_type": "code",
      "metadata": {
        "id": "PWDlgK9Jcz5J",
        "colab": {
          "base_uri": "https://localhost:8080/"
        },
        "outputId": "f29b0435-6c76-4c77-cbfb-2063fdf99be2"
      },
      "source": [
        "#@title Solução\n",
        "print('x:', type(x))\n",
        "print('y:', type(y))\n",
        "print('nome:', type(nome))"
      ],
      "execution_count": 42,
      "outputs": [
        {
          "output_type": "stream",
          "name": "stdout",
          "text": [
            "x: <class 'int'>\n",
            "y: <class 'float'>\n",
            "nome: <class 'str'>\n"
          ]
        }
      ]
    },
    {
      "cell_type": "markdown",
      "metadata": {
        "id": "B6U739zPdHLN"
      },
      "source": [
        "#### Exercício 5\n",
        "\n",
        "Crie uma variável que seja que calcule o ano em que você nasceu, utilizando operadores matemáticos e sua variável `x`."
      ]
    },
    {
      "cell_type": "code",
      "metadata": {
        "id": "Rt7ssCKGc754",
        "colab": {
          "base_uri": "https://localhost:8080/"
        },
        "outputId": "73db890c-9ac1-4583-a083-bb986a188806"
      },
      "source": [
        "# resultado\n",
        "x = 2022 - 1996\n",
        "x"
      ],
      "execution_count": 43,
      "outputs": [
        {
          "output_type": "execute_result",
          "data": {
            "text/plain": [
              "26"
            ]
          },
          "metadata": {},
          "execution_count": 43
        }
      ]
    },
    {
      "cell_type": "code",
      "metadata": {
        "id": "2lG8xjrCdXyS",
        "colab": {
          "base_uri": "https://localhost:8080/"
        },
        "outputId": "d54e2cf4-dc16-4058-8b0a-1d182836879f"
      },
      "source": [
        "#@title Solução\n",
        "x = 2020 - x\n",
        "print(x)"
      ],
      "execution_count": 44,
      "outputs": [
        {
          "output_type": "stream",
          "name": "stdout",
          "text": [
            "1994\n"
          ]
        }
      ]
    },
    {
      "cell_type": "markdown",
      "metadata": {
        "id": "cpjLvuX0do0e"
      },
      "source": [
        "### Exercício 6\n",
        "\n",
        "Crie uma variável para o preço de 3 barras de chocolate, usando a variável `y`."
      ]
    },
    {
      "cell_type": "code",
      "metadata": {
        "id": "I2Qa6YsXdg-n",
        "colab": {
          "base_uri": "https://localhost:8080/"
        },
        "outputId": "9580c08c-e6b6-4699-d356-694cda02ece1"
      },
      "source": [
        "# resultado\n",
        "y = 6.99\n",
        "print(y)\n",
        "\n",
        "y= y*9\n",
        "print(y)"
      ],
      "execution_count": 50,
      "outputs": [
        {
          "output_type": "stream",
          "name": "stdout",
          "text": [
            "6.99\n",
            "62.910000000000004\n"
          ]
        }
      ]
    },
    {
      "cell_type": "code",
      "metadata": {
        "id": "ModGVCTydxRv",
        "colab": {
          "base_uri": "https://localhost:8080/"
        },
        "outputId": "55dba4d6-c021-4eb2-d377-1f43a71b13a2"
      },
      "source": [
        "#@title Solução\n",
        "y = y * 3\n",
        "print(y)"
      ],
      "execution_count": 46,
      "outputs": [
        {
          "output_type": "stream",
          "name": "stdout",
          "text": [
            "(6, 99, 6, 99, 6, 99, 6, 99, 6, 99, 6, 99, 6, 99, 6, 99, 6, 99, 6, 99, 6, 99, 6, 99, 6, 99, 6, 99, 6, 99, 6, 99, 6, 99, 6, 99, 6, 99, 6, 99, 6, 99, 6, 99, 6, 99, 6, 99, 6, 99, 6, 99, 6, 99)\n"
          ]
        }
      ]
    },
    {
      "cell_type": "markdown",
      "metadata": {
        "id": "aZs_vY3Cd4fK"
      },
      "source": [
        "### Exercício 7\n",
        "Crie uma variável que contenha o seu nome 10 vezes, utilizando a variável `nome`."
      ]
    },
    {
      "cell_type": "code",
      "metadata": {
        "id": "q84wpuDzd1XL",
        "colab": {
          "base_uri": "https://localhost:8080/"
        },
        "outputId": "30f56744-13ef-4a3c-91c8-f1cb6f174506"
      },
      "source": [
        "# resultado\n",
        "nome = 'Ricardo'\n",
        "nome = nome *10\n",
        "print(nome)"
      ],
      "execution_count": 49,
      "outputs": [
        {
          "output_type": "stream",
          "name": "stdout",
          "text": [
            "RicardoRicardoRicardoRicardoRicardoRicardoRicardoRicardoRicardoRicardo\n"
          ]
        }
      ]
    },
    {
      "cell_type": "code",
      "metadata": {
        "id": "rIniv6jMeCrV",
        "colab": {
          "base_uri": "https://localhost:8080/"
        },
        "outputId": "5f28e400-b8dc-46bc-e241-cf99d721ae15"
      },
      "source": [
        "#@title Solução\n",
        "nome = 'Carlos'\n",
        "nome = nome * 10\n",
        "print(nome)"
      ],
      "execution_count": 48,
      "outputs": [
        {
          "output_type": "stream",
          "name": "stdout",
          "text": [
            "CarlosCarlosCarlosCarlosCarlosCarlosCarlosCarlosCarlosCarlos\n"
          ]
        }
      ]
    },
    {
      "cell_type": "code",
      "metadata": {
        "id": "cEWTrH0yeGVa"
      },
      "source": [],
      "execution_count": 48,
      "outputs": []
    }
  ]
}